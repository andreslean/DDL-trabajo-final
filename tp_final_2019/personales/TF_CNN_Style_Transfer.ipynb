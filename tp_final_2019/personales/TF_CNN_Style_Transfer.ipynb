{
  "nbformat": 4,
  "nbformat_minor": 0,
  "metadata": {
    "colab": {
      "name": "Trabajo_Final_CNN_Style_Transfer_2.ipynb",
      "provenance": [],
      "collapsed_sections": [],
      "toc_visible": true
    },
    "kernelspec": {
      "name": "python3",
      "display_name": "Python 3"
    },
    "accelerator": "GPU"
  },
  "cells": [
    {
      "cell_type": "markdown",
      "metadata": {
        "id": "qCY6UbkkI9_N",
        "colab_type": "text"
      },
      "source": [
        "# Style Transfer\n",
        "\n",
        "<img src=\"https://i0.wp.com/chelseatroy.com/wp-content/uploads/2018/12/neural_style_transfer.png?resize=768%2C311&ssl=1\">\n",
        "\n",
        "La idea de este trabajo final es reproducir el siguiente paper:\n",
        "\n",
        "https://arxiv.org/pdf/1508.06576.pdf\n",
        "\n",
        "El objetivo es transferir el estilo de una imagen dada a otra imagen distinta. \n",
        "\n",
        "Como hemos visto en clase, las primeras capas de una red convolucional se activan ante la presencia de ciertos patrones vinculados a detalles muy pequeños.\n",
        "\n",
        "A medida que avanzamos en las distintas capas de una red neuronal convolucional, los filtros se van activando a medida que detectan patrones de formas cada vez mas complejos.\n",
        "\n",
        "Lo que propone este paper es asignarle a la activación de las primeras capas de una red neuronal convolucional (por ejemplo VGG19) la definición del estilo y a la activación de las últimas capas de la red neuronal convolucional, la definición del contenido.\n",
        "\n",
        "La idea de este paper es, a partir de dos imágenes (una que aporte el estilo y otra que aporte el contenido) analizar cómo es la activación de las primeras capas para la imagen que aporta el estilo y cómo es la activación de las últimas capas de la red convolucional para la imagen que aporta el contenido. A partir de esto se intentará sintetizar una imagen que active los filtros de las primeras capas que se activaron con la imagen que aporta el estilo y los filtros de las últimas capas que se activaron con la imagen que aporta el contenido.\n",
        "\n",
        "A este procedimiento se lo denomina neural style transfer.\n",
        "\n",
        "# En este trabajo se deberá leer el paper mencionado y en base a ello, entender la implementación que se muestra a continuación y contestar preguntas sobre la misma.\n",
        "\n",
        "# Una metodología posible es hacer una lectura rápida del paper (aunque esto signifique no entender algunos detalles del mismo) y luego ir analizando el código y respondiendo las preguntas. A medida que se planteen las preguntas, volviendo a leer secciones específicas del paper terminará de entender los detalles que pudieran haber quedado pendientes.\n",
        "\n",
        "Lo primero que haremos es cargar dos imágenes, una que aporte el estilo y otra que aporte el contenido. A tal fin utilizaremos imágenes disponibles en la web."
      ]
    },
    {
      "cell_type": "code",
      "metadata": {
        "id": "_SdCnUnZURjA",
        "colab_type": "code",
        "colab": {}
      },
      "source": [
        "tensorflow_version  1.x"
      ],
      "execution_count": 0,
      "outputs": []
    },
    {
      "cell_type": "code",
      "metadata": {
        "id": "kyHsa2t0SxZi",
        "colab_type": "code",
        "colab": {}
      },
      "source": [
        "# Imagen para estilo\n",
        "!wget https://upload.wikimedia.org/wikipedia/commons/5/52/La_noche_estrellada1.jpg\n",
        "\n",
        "# Imagen para contenido\n",
        "!wget https://upload.wikimedia.org/wikipedia/commons/thumb/f/f4/Neckarfront_T%C3%BCbingen_Mai_2017.jpg/775px-Neckarfront_T%C3%BCbingen_Mai_2017.jpg\n",
        "\n",
        "# Creamos el directorio para los archivos de salida\n",
        "!mkdir /content/output"
      ],
      "execution_count": 0,
      "outputs": []
    },
    {
      "cell_type": "code",
      "metadata": {
        "id": "7BtVITRR8Tkn",
        "colab_type": "code",
        "outputId": "6e54ec64-26ac-4d9b-b86c-881c8949820b",
        "colab": {
          "base_uri": "https://localhost:8080/",
          "height": 54
        }
      },
      "source": [
        "from google.colab import drive\n",
        "drive.mount('/content/drive')"
      ],
      "execution_count": 34,
      "outputs": [
        {
          "output_type": "stream",
          "text": [
            "Drive already mounted at /content/drive; to attempt to forcibly remount, call drive.mount(\"/content/drive\", force_remount=True).\n"
          ],
          "name": "stdout"
        }
      ]
    },
    {
      "cell_type": "code",
      "metadata": {
        "id": "NIxH20o2eFoc",
        "colab_type": "code",
        "colab": {}
      },
      "source": [
        "from keras.preprocessing.image import load_img, save_img, img_to_array\n",
        "import numpy as np\n",
        "from scipy.optimize import fmin_l_bfgs_b\n",
        "import time\n",
        "import argparse\n",
        "\n",
        "from keras.applications import vgg19\n",
        "from keras import backend as K\n",
        "from pathlib import Path"
      ],
      "execution_count": 0,
      "outputs": []
    },
    {
      "cell_type": "code",
      "metadata": {
        "id": "iLkV1bnFl_tK",
        "colab_type": "code",
        "colab": {}
      },
      "source": [
        "# Definimos las imagenes que vamos a utilizar, y el directorio de salida\n",
        "\n",
        "#base_image_path = Path(\"/content/775px-Neckarfront_Tübingen_Mai_2017.jpg\")\n",
        "base_image_path = Path(\"/content/drive/My Drive/Diplomatura deep learnig/tp_final_2019/personales/perfil.jpg\")\n",
        "#style_reference_image_path = Path(\"/content/La_noche_estrellada1.jpg\")\n",
        "style_reference_image_path = Path(\"/content/drive/My Drive/Diplomatura deep learnig/tp_final_2019/personales/el_grito.jpg\")\n",
        "result_prefix = Path(\"/content/output\")\n",
        "iterations = 100"
      ],
      "execution_count": 0,
      "outputs": []
    },
    {
      "cell_type": "markdown",
      "metadata": {
        "id": "Gz2PeGfpeYzj",
        "colab_type": "text"
      },
      "source": [
        "# 1) En base a lo visto en el paper ¿Qué significan los parámetros definidos en la siguiente celda?\n",
        "\n",
        "**Respuesta 1**: \n",
        "\n",
        "Tanto  $\\alpha$ como $\\beta$ son hiperparámetros  de la loss function con la intención de darle distintos pesos a la reconstrucción del contendio y estilo respectivamente a la imagen a ser generada.\n",
        "\n",
        "1-content_weight: Emphasis on matching the content of the photograph  ($\\alpha$).\n",
        "\n",
        "2-style_weight: Emphasis on matching the style of the artwork ($\\beta$). \n",
        "\n",
        "3-total_variation_weight: Cociente entre $\\alpha$ y $\\beta$ ($\\alpha / \\beta$).\n"
      ]
    },
    {
      "cell_type": "code",
      "metadata": {
        "id": "P9Dt3aaEmJWS",
        "colab_type": "code",
        "colab": {}
      },
      "source": [
        "total_variation_weight = 100\n",
        "style_weight = 1\n",
        "content_weight = 100"
      ],
      "execution_count": 0,
      "outputs": []
    },
    {
      "cell_type": "code",
      "metadata": {
        "id": "CQQJOhCVuse6",
        "colab_type": "code",
        "colab": {}
      },
      "source": [
        "# Definimos el tamaño de las imágenes a utilizar\n",
        "width, height = load_img(base_image_path).size\n",
        "img_nrows = 400\n",
        "img_ncols = int(width * img_nrows / height)"
      ],
      "execution_count": 0,
      "outputs": []
    },
    {
      "cell_type": "markdown",
      "metadata": {
        "id": "gg2ct-8agm1E",
        "colab_type": "text"
      },
      "source": [
        "# 2) Explicar qué hace la siguiente celda. En especial las últimas dos líneas de la función antes del return. ¿Por qué?\n",
        "\n",
        "Ayuda: https://keras.io/applications/\n",
        "\n",
        "**Respuesta 2**: \n",
        "\n",
        "1-load_img: This loads an image and resizes the image to target size.\n",
        "\n",
        "2-img_to_array:  adds channels:  x.shape = (nrow, ncol, 3) for RGB and (nrow, ncol, 1) for gray image.\n",
        "\n",
        "3-np.expand_dims(img, axis=0):  is used to add the number of image.  \n",
        "\n",
        "4-preprocess_input:  subtracts the mean RGB channels of the imagenet dataset. This is because the model you are using (en nuestro caso  seria una cnn vgg19) has been trained on a different dataset."
      ]
    },
    {
      "cell_type": "code",
      "metadata": {
        "id": "tAkljg4zuzYd",
        "colab_type": "code",
        "colab": {}
      },
      "source": [
        "def preprocess_image(image_path):\n",
        "    img = load_img(image_path, target_size=(img_nrows, img_ncols))\n",
        "    img = img_to_array(img)\n",
        "    img = np.expand_dims(img, axis=0)\n",
        "    img = vgg19.preprocess_input(img)\n",
        "    return img"
      ],
      "execution_count": 0,
      "outputs": []
    },
    {
      "cell_type": "markdown",
      "metadata": {
        "id": "KTf0YDSagt10",
        "colab_type": "text"
      },
      "source": [
        "# 3) Habiendo comprendido lo que hace la celda anterior, explique de manera muy concisa qué hace la siguiente celda. ¿Qué relación tiene con la celda anterior?\n",
        "\n",
        "\n",
        "**Respuesta 3**: \n",
        "\n",
        "Para ver los resultados de nuestra optimización, debemos realizar el paso de preprocesamiento inverso.\n",
        "\n",
        "x.reshape:  le devolvemos el tamaño a la imagen.\n",
        "\n",
        "[103.939, 116.779, 123.68] son las medias  from ImageNet ( conjunto de imagenes  con las cuales se entreno la red ), no sería necesario cambiarlo si se  entrena con un propio conjunto de datos. (Entiendo que con este paso deshacemos  vgg19.preprocess_input.) \n",
        "\n",
        "x = x[:, :, ::-1] da vuelta la deficion de BGR a RBG (?)\n",
        "\n",
        "np.clip(x, 0, 255): a los valores menores que cero los reemplaza por 0 y a los mayores de 255 por 255."
      ]
    },
    {
      "cell_type": "code",
      "metadata": {
        "id": "y5LaTrsAu14z",
        "colab_type": "code",
        "colab": {}
      },
      "source": [
        "def deprocess_image(x):\n",
        "    x = x.reshape((img_nrows, img_ncols, 3))\n",
        "    # Remove zero-center by mean pixel\n",
        "    x[:, :, 0] += 103.939\n",
        "    x[:, :, 1] += 116.779\n",
        "    x[:, :, 2] += 123.68\n",
        "    # 'BGR'->'RGB'\n",
        "    x = x[:, :, ::-1]\n",
        "    x = np.clip(x, 0, 255).astype('uint8')\n",
        "    return x"
      ],
      "execution_count": 0,
      "outputs": []
    },
    {
      "cell_type": "code",
      "metadata": {
        "id": "HYNio09mu4S3",
        "colab_type": "code",
        "colab": {}
      },
      "source": [
        "# get tensor representations of our images\n",
        "# K.variable convierte un numpy array en un tensor, para \n",
        "base_image = K.variable(preprocess_image(base_image_path))\n",
        "style_reference_image = K.variable(preprocess_image(style_reference_image_path))"
      ],
      "execution_count": 0,
      "outputs": []
    },
    {
      "cell_type": "code",
      "metadata": {
        "id": "a1Lbw02Uu--o",
        "colab_type": "code",
        "colab": {}
      },
      "source": [
        "combination_image = K.placeholder((1, img_nrows, img_ncols, 3))\n",
        "#tf.compat.v1.placeholder"
      ],
      "execution_count": 0,
      "outputs": []
    },
    {
      "cell_type": "markdown",
      "metadata": {
        "id": "RJEi0YI3Uzrm",
        "colab_type": "text"
      },
      "source": [
        "Aclaración:\n",
        "\n",
        "La siguiente celda sirve para procesar las tres imagenes (contenido, estilo y salida) en un solo batch."
      ]
    },
    {
      "cell_type": "code",
      "metadata": {
        "id": "gGO_jGFfvEbF",
        "colab_type": "code",
        "colab": {}
      },
      "source": [
        "# combine the 3 images into a single Keras tensor\n",
        "input_tensor = K.concatenate([base_image,\n",
        "                              style_reference_image,\n",
        "                              combination_image], axis=0)"
      ],
      "execution_count": 0,
      "outputs": []
    },
    {
      "cell_type": "code",
      "metadata": {
        "id": "tdG59VRavHGB",
        "colab_type": "code",
        "outputId": "9bc2f3f5-4a48-431d-ed58-314e50ca283c",
        "colab": {
          "base_uri": "https://localhost:8080/",
          "height": 34
        }
      },
      "source": [
        "# build the VGG19 network with our 3 images as input\n",
        "# the model will be loaded with pre-trained ImageNet weights\n",
        "model = vgg19.VGG19(input_tensor=input_tensor,\n",
        "                    weights='imagenet', include_top=False)\n",
        "print('Model loaded.')\n",
        "\n",
        "# get the symbolic outputs of each \"key\" layer (we gave them unique names).\n",
        "outputs_dict = dict([(layer.name, layer.output) for layer in model.layers])"
      ],
      "execution_count": 112,
      "outputs": [
        {
          "output_type": "stream",
          "text": [
            "Model loaded.\n"
          ],
          "name": "stdout"
        }
      ]
    },
    {
      "cell_type": "markdown",
      "metadata": {
        "id": "70-vs_jZkKVc",
        "colab_type": "text"
      },
      "source": [
        "# 4) En la siguientes celdas:\n",
        "\n",
        "- ¿Qué es la matriz de Gram?¿Para qué se usa?\n",
        "- ¿Por qué se permutan las dimensiones de x?\n",
        "\n",
        "**Respuesta 4**:\n",
        "\n",
        "Mathematically, we describe the style loss of the base input image, $x$, and the style image, $a$, as the distance between the style representation (the gram matrices) of these images. We describe the style representation of an image as the correlation between different filter responses given by the Gram matrix  $G^l$, where $G^l_{ij}$ is the inner product between the vectorized feature map $i$ and $j$ in layer $l$. We can see that $G^l_{ij}$ generated over the feature map for a given image represents the correlation between feature maps $i$ and $j$. "
      ]
    },
    {
      "cell_type": "code",
      "metadata": {
        "id": "K1FODPATvJ1k",
        "colab_type": "code",
        "colab": {}
      },
      "source": [
        "def gram_matrix(x):\n",
        "    features = K.batch_flatten(K.permute_dimensions(x, (2, 0, 1)))\n",
        "    gram = K.dot(features, K.transpose(features))\n",
        "    return gram"
      ],
      "execution_count": 0,
      "outputs": []
    },
    {
      "cell_type": "markdown",
      "metadata": {
        "id": "vBQkKFY0Rbx-",
        "colab_type": "text"
      },
      "source": [
        "# 5) Losses:\n",
        "\n",
        "Explicar qué mide cada una de las losses en las siguientes tres celdas.\n",
        "\n",
        "**Respuesta 5**:\n",
        "\n",
        "1-style_loss: Es la componente de la función de costo que busca que busca minimizar el error entre el estilo de la imagen orininal y la generada. \n",
        "\n",
        "\n",
        "2-content_loss: Es la componente de la función de costo que busca que busca minimizar el error entre el contenido de la imagen orininal y la generada. \n",
        "\n",
        "3-total_variation_loss: Si no me equivoco no aparece mencionada en el paper.  Entiendo que no es parte del algoritmo en si y que se usa para obtener una imagen mas suave y limpia a través de un movimiento de pixeles. \n",
        "\n",
        "4-loss: es la función a minimizar, está formada por la suma pesada entre la style_loss y la content_loss. Los pesos son los $\\alpha$ y $\\beta$ mencionados en la pregunta en 1.\n"
      ]
    },
    {
      "cell_type": "code",
      "metadata": {
        "id": "1-Gt0ahWvN6q",
        "colab_type": "code",
        "colab": {}
      },
      "source": [
        "def style_loss(style, combination):\n",
        "    assert K.ndim(style) == 3\n",
        "    assert K.ndim(combination) == 3\n",
        "    S = gram_matrix(style)\n",
        "    C = gram_matrix(combination)\n",
        "    channels = 3\n",
        "    size = img_nrows * img_ncols\n",
        "    return K.sum(K.square(S - C)) / (4.0 * (channels ** 2) * (size ** 2))"
      ],
      "execution_count": 0,
      "outputs": []
    },
    {
      "cell_type": "code",
      "metadata": {
        "id": "XCqnju5RvQCo",
        "colab_type": "code",
        "colab": {}
      },
      "source": [
        "def content_loss(base, combination):\n",
        "    return K.sum(K.square(combination - base))\n"
      ],
      "execution_count": 0,
      "outputs": []
    },
    {
      "cell_type": "code",
      "metadata": {
        "id": "udEp5h31vRnY",
        "colab_type": "code",
        "colab": {}
      },
      "source": [
        "def total_variation_loss(x):\n",
        "    assert K.ndim(x) == 4\n",
        "    a = K.square(\n",
        "        x[:, :img_nrows - 1, :img_ncols - 1, :] - x[:, 1:, :img_ncols - 1, :])\n",
        "    b = K.square(\n",
        "        x[:, :img_nrows - 1, :img_ncols - 1, :] - x[:, :img_nrows - 1, 1:, :])\n",
        "    return K.sum(K.pow(a + b, 1.25))\n"
      ],
      "execution_count": 0,
      "outputs": []
    },
    {
      "cell_type": "code",
      "metadata": {
        "id": "-65vcinbvTZ0",
        "colab_type": "code",
        "colab": {}
      },
      "source": [
        "# Armamos la loss total\n",
        "loss = K.variable(0.0)\n",
        "layer_features = outputs_dict['block5_conv2']\n",
        "base_image_features = layer_features[0, :, :, :]\n",
        "combination_features = layer_features[2, :, :, :]\n",
        "loss = loss + content_weight * content_loss(base_image_features,\n",
        "                                            combination_features)\n",
        "\n",
        "feature_layers = ['block1_conv1', 'block2_conv1',\n",
        "                  'block3_conv1', 'block4_conv1',\n",
        "                  'block5_conv1']\n",
        "for layer_name in feature_layers:\n",
        "    layer_features = outputs_dict[layer_name]\n",
        "    style_reference_features = layer_features[1, :, :, :] \n",
        "    combination_features = layer_features[2, :, :, :]\n",
        "    sl = style_loss(style_reference_features, combination_features)\n",
        "    loss = loss + (style_weight / len(feature_layers)) * sl\n",
        "loss = loss + total_variation_weight * total_variation_loss(combination_image)"
      ],
      "execution_count": 0,
      "outputs": []
    },
    {
      "cell_type": "code",
      "metadata": {
        "id": "pbz4n1OhvV2K",
        "colab_type": "code",
        "colab": {}
      },
      "source": [
        "grads = K.gradients(loss, combination_image)\n",
        "\n",
        "outputs = [loss]\n",
        "if isinstance(grads, (list, tuple)):\n",
        "    outputs += grads\n",
        "else:\n",
        "    outputs.append(grads)\n",
        "\n",
        "f_outputs = K.function([combination_image], outputs)"
      ],
      "execution_count": 0,
      "outputs": []
    },
    {
      "cell_type": "markdown",
      "metadata": {
        "id": "1JbydbOaVcvU",
        "colab_type": "text"
      },
      "source": [
        "# 6) Explique el propósito de las siguientes tres celdas. ¿Qué hace la función fmin_l_bfgs_b? ¿En qué se diferencia con la implementación del paper? ¿Se puede utilizar alguna alternativa?\n",
        "\n"
      ]
    },
    {
      "cell_type": "markdown",
      "metadata": {
        "id": "mafXgoT_NJQB",
        "colab_type": "text"
      },
      "source": [
        "**Respuesta 6**:\n",
        "\n",
        "Descripción de **fmin_l_bfgs_b**:\n",
        "\n",
        "fmin_l_bfgs_b(func, x0, fprime=None,  maxfun)\n",
        "\n",
        "func:  callable f(x,*args).Function to minimise.\n",
        "\n",
        "x0: ndarray: Initial guess.\n",
        "\n",
        "fprime: (optional) The gradient of func.\n",
        "\n",
        "maxfun: (optional) Maximum number of function evaluations.\n",
        "\n",
        "Returns:\n",
        "x: array_like: Estimated position of the minimum.\n",
        "\n",
        "f: float: Value of func at the minimum.\n",
        "\n",
        "ddict: otra informacion.\n",
        "\n",
        "\n",
        "Entiendo que fmin_l_bfgs_b esta dentro de una familia de metodos de optimización conocida genéricamente como métodos de Cuasi-Newton. Son métodos que, a difrenecia de los métodos de Newton,  no necesitan computar la matriz Hessiana, si no que  directamente estiman su inversa usando información del gradiente.\n",
        "\n",
        "Por otro lado, en su implementación el paper propone usar el método del  Descenso del Gradiente mediante el algoritmo de backpropagation para la optimizacion de la funcion de costo."
      ]
    },
    {
      "cell_type": "code",
      "metadata": {
        "id": "zVE1_qemvZeN",
        "colab_type": "code",
        "colab": {}
      },
      "source": [
        "def eval_loss_and_grads(x):\n",
        "    x = x.reshape((1, img_nrows, img_ncols, 3))\n",
        "    outs = f_outputs([x])\n",
        "    loss_value = outs[0]\n",
        "    if len(outs[1:]) == 1:\n",
        "        grad_values = outs[1].flatten().astype('float64')\n",
        "    else:\n",
        "        grad_values = np.array(outs[1:]).flatten().astype('float64')\n",
        "    return loss_value, grad_values\n",
        "\n",
        "# this Evaluator class makes it possible\n",
        "# to compute loss and gradients in one pass\n",
        "# while retrieving them via two separate functions,\n",
        "# \"loss\" and \"grads\". This is done because scipy.optimize\n",
        "# requires separate functions for loss and gradients,\n",
        "# but computing them separately would be inefficient."
      ],
      "execution_count": 0,
      "outputs": []
    },
    {
      "cell_type": "code",
      "metadata": {
        "id": "Qbl9roIgvdb1",
        "colab_type": "code",
        "colab": {}
      },
      "source": [
        "class Evaluator(object):\n",
        "\n",
        "    def __init__(self):\n",
        "        self.loss_value = None\n",
        "        self.grads_values = None\n",
        "\n",
        "    def loss(self, x):\n",
        "        assert self.loss_value is None\n",
        "        loss_value, grad_values = eval_loss_and_grads(x)\n",
        "        self.loss_value = loss_value\n",
        "        self.grad_values = grad_values\n",
        "        return self.loss_value\n",
        "\n",
        "    def grads(self, x):\n",
        "        assert self.loss_value is not None\n",
        "        grad_values = np.copy(self.grad_values)\n",
        "        self.loss_value = None\n",
        "        self.grad_values = None\n",
        "        return grad_values"
      ],
      "execution_count": 0,
      "outputs": []
    },
    {
      "cell_type": "markdown",
      "metadata": {
        "id": "Sb0yOEl-WOE6",
        "colab_type": "text"
      },
      "source": [
        "# 7) Ejecute la siguiente celda y observe las imágenes de salida en cada iteración."
      ]
    },
    {
      "cell_type": "markdown",
      "metadata": {
        "id": "7WpxY4Uc07Sv",
        "colab_type": "text"
      },
      "source": [
        ""
      ]
    },
    {
      "cell_type": "code",
      "metadata": {
        "id": "n31YBwCVvhAI",
        "colab_type": "code",
        "colab": {
          "base_uri": "https://localhost:8080/",
          "height": 1000
        },
        "outputId": "7d514190-e38b-4a31-c69d-97e70123361a"
      },
      "source": [
        "evaluator = Evaluator()\n",
        "\n",
        "# run scipy-based optimization (L-BFGS) over the pixels of the generated image\n",
        "# so as to minimize the neural style loss\n",
        "x = preprocess_image(base_image_path)\n",
        "\n",
        "for i in range(iterations):\n",
        "    print('Start of iteration', i)\n",
        "    start_time = time.time()\n",
        "    x, min_val, info = fmin_l_bfgs_b(evaluator.loss, x.flatten(),\n",
        "                                     fprime=evaluator.grads, maxfun=20)\n",
        "    print('Current loss value:', min_val)\n",
        "    # save current generated image\n",
        "    img = deprocess_image(x.copy())\n",
        "    fname = result_prefix / ('output_at_iteration_%d.png' % i)\n",
        "    save_img(fname, img)\n",
        "    end_time = time.time()\n",
        "    print('Image saved as', fname)\n",
        "    print('Iteration %d completed in %ds' % (i, end_time - start_time))"
      ],
      "execution_count": 121,
      "outputs": [
        {
          "output_type": "stream",
          "text": [
            "Start of iteration 0\n",
            "Current loss value: 51511630000.0\n",
            "Image saved as /content/output/output_at_iteration_0.png\n",
            "Iteration 0 completed in 3s\n",
            "Start of iteration 1\n",
            "Current loss value: 37662500000.0\n",
            "Image saved as /content/output/output_at_iteration_1.png\n",
            "Iteration 1 completed in 3s\n",
            "Start of iteration 2\n",
            "Current loss value: 33090236000.0\n",
            "Image saved as /content/output/output_at_iteration_2.png\n",
            "Iteration 2 completed in 3s\n",
            "Start of iteration 3\n",
            "Current loss value: 30664320000.0\n",
            "Image saved as /content/output/output_at_iteration_3.png\n",
            "Iteration 3 completed in 3s\n",
            "Start of iteration 4\n",
            "Current loss value: 29097345000.0\n",
            "Image saved as /content/output/output_at_iteration_4.png\n",
            "Iteration 4 completed in 3s\n",
            "Start of iteration 5\n",
            "Current loss value: 28043198000.0\n",
            "Image saved as /content/output/output_at_iteration_5.png\n",
            "Iteration 5 completed in 3s\n",
            "Start of iteration 6\n",
            "Current loss value: 27310280000.0\n",
            "Image saved as /content/output/output_at_iteration_6.png\n",
            "Iteration 6 completed in 3s\n",
            "Start of iteration 7\n",
            "Current loss value: 26740700000.0\n",
            "Image saved as /content/output/output_at_iteration_7.png\n",
            "Iteration 7 completed in 3s\n",
            "Start of iteration 8\n",
            "Current loss value: 26287950000.0\n",
            "Image saved as /content/output/output_at_iteration_8.png\n",
            "Iteration 8 completed in 3s\n",
            "Start of iteration 9\n",
            "Current loss value: 25914840000.0\n",
            "Image saved as /content/output/output_at_iteration_9.png\n",
            "Iteration 9 completed in 3s\n",
            "Start of iteration 10\n",
            "Current loss value: 25602886000.0\n",
            "Image saved as /content/output/output_at_iteration_10.png\n",
            "Iteration 10 completed in 3s\n",
            "Start of iteration 11\n",
            "Current loss value: 25330147000.0\n",
            "Image saved as /content/output/output_at_iteration_11.png\n",
            "Iteration 11 completed in 3s\n",
            "Start of iteration 12\n",
            "Current loss value: 25091610000.0\n",
            "Image saved as /content/output/output_at_iteration_12.png\n",
            "Iteration 12 completed in 3s\n",
            "Start of iteration 13\n",
            "Current loss value: 24876052000.0\n",
            "Image saved as /content/output/output_at_iteration_13.png\n",
            "Iteration 13 completed in 3s\n",
            "Start of iteration 14\n",
            "Current loss value: 24680420000.0\n",
            "Image saved as /content/output/output_at_iteration_14.png\n",
            "Iteration 14 completed in 3s\n",
            "Start of iteration 15\n",
            "Current loss value: 24509559000.0\n",
            "Image saved as /content/output/output_at_iteration_15.png\n",
            "Iteration 15 completed in 3s\n",
            "Start of iteration 16\n",
            "Current loss value: 24349110000.0\n",
            "Image saved as /content/output/output_at_iteration_16.png\n",
            "Iteration 16 completed in 3s\n",
            "Start of iteration 17\n",
            "Current loss value: 24200038000.0\n",
            "Image saved as /content/output/output_at_iteration_17.png\n",
            "Iteration 17 completed in 3s\n",
            "Start of iteration 18\n",
            "Current loss value: 24066925000.0\n",
            "Image saved as /content/output/output_at_iteration_18.png\n",
            "Iteration 18 completed in 3s\n",
            "Start of iteration 19\n",
            "Current loss value: 23944820000.0\n",
            "Image saved as /content/output/output_at_iteration_19.png\n",
            "Iteration 19 completed in 3s\n",
            "Start of iteration 20\n",
            "Current loss value: 23836828000.0\n",
            "Image saved as /content/output/output_at_iteration_20.png\n",
            "Iteration 20 completed in 3s\n",
            "Start of iteration 21\n",
            "Current loss value: 23744205000.0\n",
            "Image saved as /content/output/output_at_iteration_21.png\n",
            "Iteration 21 completed in 3s\n",
            "Start of iteration 22\n",
            "Current loss value: 23657994000.0\n",
            "Image saved as /content/output/output_at_iteration_22.png\n",
            "Iteration 22 completed in 3s\n",
            "Start of iteration 23\n",
            "Current loss value: 23578067000.0\n",
            "Image saved as /content/output/output_at_iteration_23.png\n",
            "Iteration 23 completed in 3s\n",
            "Start of iteration 24\n",
            "Current loss value: 23501509000.0\n",
            "Image saved as /content/output/output_at_iteration_24.png\n",
            "Iteration 24 completed in 3s\n",
            "Start of iteration 25\n",
            "Current loss value: 23429624000.0\n",
            "Image saved as /content/output/output_at_iteration_25.png\n",
            "Iteration 25 completed in 3s\n",
            "Start of iteration 26\n",
            "Current loss value: 23365784000.0\n",
            "Image saved as /content/output/output_at_iteration_26.png\n",
            "Iteration 26 completed in 3s\n",
            "Start of iteration 27\n",
            "Current loss value: 23307660000.0\n",
            "Image saved as /content/output/output_at_iteration_27.png\n",
            "Iteration 27 completed in 3s\n",
            "Start of iteration 28\n",
            "Current loss value: 23253869000.0\n",
            "Image saved as /content/output/output_at_iteration_28.png\n",
            "Iteration 28 completed in 3s\n",
            "Start of iteration 29\n",
            "Current loss value: 23206113000.0\n",
            "Image saved as /content/output/output_at_iteration_29.png\n",
            "Iteration 29 completed in 3s\n",
            "Start of iteration 30\n",
            "Current loss value: 23161420000.0\n",
            "Image saved as /content/output/output_at_iteration_30.png\n",
            "Iteration 30 completed in 3s\n",
            "Start of iteration 31\n",
            "Current loss value: 23119352000.0\n",
            "Image saved as /content/output/output_at_iteration_31.png\n",
            "Iteration 31 completed in 3s\n",
            "Start of iteration 32\n",
            "Current loss value: 23083078000.0\n",
            "Image saved as /content/output/output_at_iteration_32.png\n",
            "Iteration 32 completed in 3s\n",
            "Start of iteration 33\n",
            "Current loss value: 23051047000.0\n",
            "Image saved as /content/output/output_at_iteration_33.png\n",
            "Iteration 33 completed in 3s\n",
            "Start of iteration 34\n",
            "Current loss value: 23019127000.0\n",
            "Image saved as /content/output/output_at_iteration_34.png\n",
            "Iteration 34 completed in 3s\n",
            "Start of iteration 35\n",
            "Current loss value: 22987860000.0\n",
            "Image saved as /content/output/output_at_iteration_35.png\n",
            "Iteration 35 completed in 3s\n",
            "Start of iteration 36\n",
            "Current loss value: 22958785000.0\n",
            "Image saved as /content/output/output_at_iteration_36.png\n",
            "Iteration 36 completed in 3s\n",
            "Start of iteration 37\n",
            "Current loss value: 22929705000.0\n",
            "Image saved as /content/output/output_at_iteration_37.png\n",
            "Iteration 37 completed in 3s\n",
            "Start of iteration 38\n",
            "Current loss value: 22901862000.0\n",
            "Image saved as /content/output/output_at_iteration_38.png\n",
            "Iteration 38 completed in 3s\n",
            "Start of iteration 39\n",
            "Current loss value: 22874595000.0\n",
            "Image saved as /content/output/output_at_iteration_39.png\n",
            "Iteration 39 completed in 3s\n",
            "Start of iteration 40\n",
            "Current loss value: 22849296000.0\n",
            "Image saved as /content/output/output_at_iteration_40.png\n",
            "Iteration 40 completed in 3s\n",
            "Start of iteration 41\n",
            "Current loss value: 22825767000.0\n",
            "Image saved as /content/output/output_at_iteration_41.png\n",
            "Iteration 41 completed in 3s\n",
            "Start of iteration 42\n",
            "Current loss value: 22802297000.0\n",
            "Image saved as /content/output/output_at_iteration_42.png\n",
            "Iteration 42 completed in 3s\n",
            "Start of iteration 43\n",
            "Current loss value: 22780408000.0\n",
            "Image saved as /content/output/output_at_iteration_43.png\n",
            "Iteration 43 completed in 3s\n",
            "Start of iteration 44\n",
            "Current loss value: 22759674000.0\n",
            "Image saved as /content/output/output_at_iteration_44.png\n",
            "Iteration 44 completed in 3s\n",
            "Start of iteration 45\n",
            "Current loss value: 22740042000.0\n",
            "Image saved as /content/output/output_at_iteration_45.png\n",
            "Iteration 45 completed in 3s\n",
            "Start of iteration 46\n",
            "Current loss value: 22722632000.0\n",
            "Image saved as /content/output/output_at_iteration_46.png\n",
            "Iteration 46 completed in 3s\n",
            "Start of iteration 47\n",
            "Current loss value: 22706119000.0\n",
            "Image saved as /content/output/output_at_iteration_47.png\n",
            "Iteration 47 completed in 3s\n",
            "Start of iteration 48\n",
            "Current loss value: 22689657000.0\n",
            "Image saved as /content/output/output_at_iteration_48.png\n",
            "Iteration 48 completed in 3s\n",
            "Start of iteration 49\n",
            "Current loss value: 22673420000.0\n",
            "Image saved as /content/output/output_at_iteration_49.png\n",
            "Iteration 49 completed in 3s\n",
            "Start of iteration 50\n",
            "Current loss value: 22658425000.0\n",
            "Image saved as /content/output/output_at_iteration_50.png\n",
            "Iteration 50 completed in 3s\n",
            "Start of iteration 51\n",
            "Current loss value: 22644808000.0\n",
            "Image saved as /content/output/output_at_iteration_51.png\n",
            "Iteration 51 completed in 3s\n",
            "Start of iteration 52\n",
            "Current loss value: 22631480000.0\n",
            "Image saved as /content/output/output_at_iteration_52.png\n",
            "Iteration 52 completed in 3s\n",
            "Start of iteration 53\n",
            "Current loss value: 22619138000.0\n",
            "Image saved as /content/output/output_at_iteration_53.png\n",
            "Iteration 53 completed in 3s\n",
            "Start of iteration 54\n",
            "Current loss value: 22607417000.0\n",
            "Image saved as /content/output/output_at_iteration_54.png\n",
            "Iteration 54 completed in 3s\n",
            "Start of iteration 55\n",
            "Current loss value: 22594804000.0\n",
            "Image saved as /content/output/output_at_iteration_55.png\n",
            "Iteration 55 completed in 3s\n",
            "Start of iteration 56\n",
            "Current loss value: 22582387000.0\n",
            "Image saved as /content/output/output_at_iteration_56.png\n",
            "Iteration 56 completed in 3s\n",
            "Start of iteration 57\n",
            "Current loss value: 22570103000.0\n",
            "Image saved as /content/output/output_at_iteration_57.png\n",
            "Iteration 57 completed in 3s\n",
            "Start of iteration 58\n",
            "Current loss value: 22558394000.0\n",
            "Image saved as /content/output/output_at_iteration_58.png\n",
            "Iteration 58 completed in 3s\n",
            "Start of iteration 59\n",
            "Current loss value: 22546133000.0\n",
            "Image saved as /content/output/output_at_iteration_59.png\n",
            "Iteration 59 completed in 3s\n",
            "Start of iteration 60\n",
            "Current loss value: 22534316000.0\n",
            "Image saved as /content/output/output_at_iteration_60.png\n",
            "Iteration 60 completed in 3s\n",
            "Start of iteration 61\n",
            "Current loss value: 22522642000.0\n",
            "Image saved as /content/output/output_at_iteration_61.png\n",
            "Iteration 61 completed in 3s\n",
            "Start of iteration 62\n",
            "Current loss value: 22511002000.0\n",
            "Image saved as /content/output/output_at_iteration_62.png\n",
            "Iteration 62 completed in 3s\n",
            "Start of iteration 63\n",
            "Current loss value: 22499568000.0\n",
            "Image saved as /content/output/output_at_iteration_63.png\n",
            "Iteration 63 completed in 3s\n",
            "Start of iteration 64\n",
            "Current loss value: 22488451000.0\n",
            "Image saved as /content/output/output_at_iteration_64.png\n",
            "Iteration 64 completed in 3s\n",
            "Start of iteration 65\n",
            "Current loss value: 22478373000.0\n",
            "Image saved as /content/output/output_at_iteration_65.png\n",
            "Iteration 65 completed in 3s\n",
            "Start of iteration 66\n",
            "Current loss value: 22467957000.0\n",
            "Image saved as /content/output/output_at_iteration_66.png\n",
            "Iteration 66 completed in 3s\n",
            "Start of iteration 67\n",
            "Current loss value: 22457661000.0\n",
            "Image saved as /content/output/output_at_iteration_67.png\n",
            "Iteration 67 completed in 3s\n",
            "Start of iteration 68\n",
            "Current loss value: 22447935000.0\n",
            "Image saved as /content/output/output_at_iteration_68.png\n",
            "Iteration 68 completed in 3s\n",
            "Start of iteration 69\n",
            "Current loss value: 22438535000.0\n",
            "Image saved as /content/output/output_at_iteration_69.png\n",
            "Iteration 69 completed in 3s\n",
            "Start of iteration 70\n",
            "Current loss value: 22429600000.0\n",
            "Image saved as /content/output/output_at_iteration_70.png\n",
            "Iteration 70 completed in 3s\n",
            "Start of iteration 71\n",
            "Current loss value: 22420804000.0\n",
            "Image saved as /content/output/output_at_iteration_71.png\n",
            "Iteration 71 completed in 3s\n",
            "Start of iteration 72\n",
            "Current loss value: 22411747000.0\n",
            "Image saved as /content/output/output_at_iteration_72.png\n",
            "Iteration 72 completed in 3s\n",
            "Start of iteration 73\n",
            "Current loss value: 22402880000.0\n",
            "Image saved as /content/output/output_at_iteration_73.png\n",
            "Iteration 73 completed in 3s\n",
            "Start of iteration 74\n",
            "Current loss value: 22394604000.0\n",
            "Image saved as /content/output/output_at_iteration_74.png\n",
            "Iteration 74 completed in 3s\n",
            "Start of iteration 75\n",
            "Current loss value: 22386741000.0\n",
            "Image saved as /content/output/output_at_iteration_75.png\n",
            "Iteration 75 completed in 3s\n",
            "Start of iteration 76\n",
            "Current loss value: 22379119000.0\n",
            "Image saved as /content/output/output_at_iteration_76.png\n",
            "Iteration 76 completed in 3s\n",
            "Start of iteration 77\n",
            "Current loss value: 22372393000.0\n",
            "Image saved as /content/output/output_at_iteration_77.png\n",
            "Iteration 77 completed in 3s\n",
            "Start of iteration 78\n",
            "Current loss value: 22365557000.0\n",
            "Image saved as /content/output/output_at_iteration_78.png\n",
            "Iteration 78 completed in 3s\n",
            "Start of iteration 79\n",
            "Current loss value: 22358594000.0\n",
            "Image saved as /content/output/output_at_iteration_79.png\n",
            "Iteration 79 completed in 3s\n",
            "Start of iteration 80\n",
            "Current loss value: 22352015000.0\n",
            "Image saved as /content/output/output_at_iteration_80.png\n",
            "Iteration 80 completed in 3s\n",
            "Start of iteration 81\n",
            "Current loss value: 22345396000.0\n",
            "Image saved as /content/output/output_at_iteration_81.png\n",
            "Iteration 81 completed in 3s\n",
            "Start of iteration 82\n",
            "Current loss value: 22338650000.0\n",
            "Image saved as /content/output/output_at_iteration_82.png\n",
            "Iteration 82 completed in 3s\n",
            "Start of iteration 83\n",
            "Current loss value: 22331843000.0\n",
            "Image saved as /content/output/output_at_iteration_83.png\n",
            "Iteration 83 completed in 3s\n",
            "Start of iteration 84\n",
            "Current loss value: 22325115000.0\n",
            "Image saved as /content/output/output_at_iteration_84.png\n",
            "Iteration 84 completed in 3s\n",
            "Start of iteration 85\n",
            "Current loss value: 22318684000.0\n",
            "Image saved as /content/output/output_at_iteration_85.png\n",
            "Iteration 85 completed in 3s\n",
            "Start of iteration 86\n",
            "Current loss value: 22312215000.0\n",
            "Image saved as /content/output/output_at_iteration_86.png\n",
            "Iteration 86 completed in 3s\n",
            "Start of iteration 87\n",
            "Current loss value: 22305915000.0\n",
            "Image saved as /content/output/output_at_iteration_87.png\n",
            "Iteration 87 completed in 3s\n",
            "Start of iteration 88\n",
            "Current loss value: 22299605000.0\n",
            "Image saved as /content/output/output_at_iteration_88.png\n",
            "Iteration 88 completed in 3s\n",
            "Start of iteration 89\n",
            "Current loss value: 22293766000.0\n",
            "Image saved as /content/output/output_at_iteration_89.png\n",
            "Iteration 89 completed in 3s\n",
            "Start of iteration 90\n",
            "Current loss value: 22288335000.0\n",
            "Image saved as /content/output/output_at_iteration_90.png\n",
            "Iteration 90 completed in 3s\n",
            "Start of iteration 91\n",
            "Current loss value: 22283320000.0\n",
            "Image saved as /content/output/output_at_iteration_91.png\n",
            "Iteration 91 completed in 3s\n",
            "Start of iteration 92\n",
            "Current loss value: 22278496000.0\n",
            "Image saved as /content/output/output_at_iteration_92.png\n",
            "Iteration 92 completed in 3s\n",
            "Start of iteration 93\n",
            "Current loss value: 22273667000.0\n",
            "Image saved as /content/output/output_at_iteration_93.png\n",
            "Iteration 93 completed in 3s\n",
            "Start of iteration 94\n",
            "Current loss value: 22268970000.0\n",
            "Image saved as /content/output/output_at_iteration_94.png\n",
            "Iteration 94 completed in 3s\n",
            "Start of iteration 95\n",
            "Current loss value: 22264244000.0\n",
            "Image saved as /content/output/output_at_iteration_95.png\n",
            "Iteration 95 completed in 3s\n",
            "Start of iteration 96\n",
            "Current loss value: 22259730000.0\n",
            "Image saved as /content/output/output_at_iteration_96.png\n",
            "Iteration 96 completed in 3s\n",
            "Start of iteration 97\n",
            "Current loss value: 22255510000.0\n",
            "Image saved as /content/output/output_at_iteration_97.png\n",
            "Iteration 97 completed in 3s\n",
            "Start of iteration 98\n",
            "Current loss value: 22251307000.0\n",
            "Image saved as /content/output/output_at_iteration_98.png\n",
            "Iteration 98 completed in 3s\n",
            "Start of iteration 99\n",
            "Current loss value: 22247268000.0\n",
            "Image saved as /content/output/output_at_iteration_99.png\n",
            "Iteration 99 completed in 3s\n"
          ],
          "name": "stdout"
        }
      ]
    },
    {
      "cell_type": "markdown",
      "metadata": {
        "id": "SkiJtofbWWy1",
        "colab_type": "text"
      },
      "source": [
        "# 8) Generar imágenes para distintas combinaciones de pesos de las losses. Explicar las diferencias. (Adjuntar las imágenes generadas como archivos separados.)\n",
        "\n",
        "**Respuesta 8**: El las imagenes podemos apreciar como cambia la imagen generada a medida que cambiamos los pesos. Se puede ver que a medida que subimos el valor para stw la imagen generada se va empapando más con el estilo de la pintura \"la noche estrellada\" dejando de lado el contenido de la fotogrfía de Neckarfront. Y viceversa.\n",
        "\n",
        "cow: content_weight.\n",
        "\n",
        "stw: style_weight.\n",
        "\n",
        "iter: número de itaraciones. \n",
        "\n",
        "# 9) Cambiar las imágenes de contenido y estilo por unas elegidas por usted. Adjuntar el resultado.\n",
        "\n",
        "**Respuesta 9**:"
      ]
    },
    {
      "cell_type": "code",
      "metadata": {
        "id": "Oc37O-FchxI4",
        "colab_type": "code",
        "colab": {}
      },
      "source": [
        ""
      ],
      "execution_count": 0,
      "outputs": []
    }
  ]
}